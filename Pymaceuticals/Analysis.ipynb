{
 "cells": [
  {
   "cell_type": "markdown",
   "metadata": {},
   "source": [
    "## Observations and Insights "
   ]
  },
  {
   "cell_type": "markdown",
   "metadata": {},
   "source": [
    "Three observations which can be made from analyzing this data set include:\n",
    "1. There appears to be a positive correlation between mouse weight and tumor volume.\n",
    "2. From the data set, Ramicane appears to be the most promising drug regimen for these mice in terms of causing the slowest rate of tumor growth.\n",
    "3. The linear regression model for the Capomulin drug regimen is able to get close to or capture a good amount of the data points on the scatter plot and consequently, the correlation coefficient value is fairly high. This increases my confidence in using this generated linear regression formula to make future predictions of tumor volumes based on the weight of the mouse or calculating the estimated weight of the mouse based on provided tumor volume."
   ]
  },
  {
   "cell_type": "code",
   "execution_count": 1354,
   "metadata": {},
   "outputs": [
    {
     "data": {
      "text/html": [
       "<div>\n",
       "<style scoped>\n",
       "    .dataframe tbody tr th:only-of-type {\n",
       "        vertical-align: middle;\n",
       "    }\n",
       "\n",
       "    .dataframe tbody tr th {\n",
       "        vertical-align: top;\n",
       "    }\n",
       "\n",
       "    .dataframe thead th {\n",
       "        text-align: right;\n",
       "    }\n",
       "</style>\n",
       "<table border=\"1\" class=\"dataframe\">\n",
       "  <thead>\n",
       "    <tr style=\"text-align: right;\">\n",
       "      <th></th>\n",
       "      <th>Mouse ID</th>\n",
       "      <th>Timepoint</th>\n",
       "      <th>Tumor Volume (mm3)</th>\n",
       "      <th>Metastatic Sites</th>\n",
       "      <th>Drug Regimen</th>\n",
       "      <th>Sex</th>\n",
       "      <th>Age_months</th>\n",
       "      <th>Weight (g)</th>\n",
       "    </tr>\n",
       "  </thead>\n",
       "  <tbody>\n",
       "    <tr>\n",
       "      <th>0</th>\n",
       "      <td>b128</td>\n",
       "      <td>0</td>\n",
       "      <td>45.000000</td>\n",
       "      <td>0</td>\n",
       "      <td>Capomulin</td>\n",
       "      <td>Female</td>\n",
       "      <td>9</td>\n",
       "      <td>22</td>\n",
       "    </tr>\n",
       "    <tr>\n",
       "      <th>1</th>\n",
       "      <td>b128</td>\n",
       "      <td>5</td>\n",
       "      <td>45.651331</td>\n",
       "      <td>0</td>\n",
       "      <td>Capomulin</td>\n",
       "      <td>Female</td>\n",
       "      <td>9</td>\n",
       "      <td>22</td>\n",
       "    </tr>\n",
       "    <tr>\n",
       "      <th>2</th>\n",
       "      <td>b128</td>\n",
       "      <td>10</td>\n",
       "      <td>43.270852</td>\n",
       "      <td>0</td>\n",
       "      <td>Capomulin</td>\n",
       "      <td>Female</td>\n",
       "      <td>9</td>\n",
       "      <td>22</td>\n",
       "    </tr>\n",
       "    <tr>\n",
       "      <th>3</th>\n",
       "      <td>b128</td>\n",
       "      <td>15</td>\n",
       "      <td>43.784893</td>\n",
       "      <td>0</td>\n",
       "      <td>Capomulin</td>\n",
       "      <td>Female</td>\n",
       "      <td>9</td>\n",
       "      <td>22</td>\n",
       "    </tr>\n",
       "    <tr>\n",
       "      <th>4</th>\n",
       "      <td>b128</td>\n",
       "      <td>20</td>\n",
       "      <td>42.731552</td>\n",
       "      <td>0</td>\n",
       "      <td>Capomulin</td>\n",
       "      <td>Female</td>\n",
       "      <td>9</td>\n",
       "      <td>22</td>\n",
       "    </tr>\n",
       "    <tr>\n",
       "      <th>...</th>\n",
       "      <td>...</td>\n",
       "      <td>...</td>\n",
       "      <td>...</td>\n",
       "      <td>...</td>\n",
       "      <td>...</td>\n",
       "      <td>...</td>\n",
       "      <td>...</td>\n",
       "      <td>...</td>\n",
       "    </tr>\n",
       "    <tr>\n",
       "      <th>1888</th>\n",
       "      <td>m601</td>\n",
       "      <td>25</td>\n",
       "      <td>33.118756</td>\n",
       "      <td>1</td>\n",
       "      <td>Capomulin</td>\n",
       "      <td>Male</td>\n",
       "      <td>22</td>\n",
       "      <td>17</td>\n",
       "    </tr>\n",
       "    <tr>\n",
       "      <th>1889</th>\n",
       "      <td>m601</td>\n",
       "      <td>30</td>\n",
       "      <td>31.758275</td>\n",
       "      <td>1</td>\n",
       "      <td>Capomulin</td>\n",
       "      <td>Male</td>\n",
       "      <td>22</td>\n",
       "      <td>17</td>\n",
       "    </tr>\n",
       "    <tr>\n",
       "      <th>1890</th>\n",
       "      <td>m601</td>\n",
       "      <td>35</td>\n",
       "      <td>30.834357</td>\n",
       "      <td>1</td>\n",
       "      <td>Capomulin</td>\n",
       "      <td>Male</td>\n",
       "      <td>22</td>\n",
       "      <td>17</td>\n",
       "    </tr>\n",
       "    <tr>\n",
       "      <th>1891</th>\n",
       "      <td>m601</td>\n",
       "      <td>40</td>\n",
       "      <td>31.378045</td>\n",
       "      <td>1</td>\n",
       "      <td>Capomulin</td>\n",
       "      <td>Male</td>\n",
       "      <td>22</td>\n",
       "      <td>17</td>\n",
       "    </tr>\n",
       "    <tr>\n",
       "      <th>1892</th>\n",
       "      <td>m601</td>\n",
       "      <td>45</td>\n",
       "      <td>28.430964</td>\n",
       "      <td>1</td>\n",
       "      <td>Capomulin</td>\n",
       "      <td>Male</td>\n",
       "      <td>22</td>\n",
       "      <td>17</td>\n",
       "    </tr>\n",
       "  </tbody>\n",
       "</table>\n",
       "<p>1893 rows × 8 columns</p>\n",
       "</div>"
      ],
      "text/plain": [
       "     Mouse ID  Timepoint  Tumor Volume (mm3)  Metastatic Sites Drug Regimen  \\\n",
       "0        b128          0           45.000000                 0    Capomulin   \n",
       "1        b128          5           45.651331                 0    Capomulin   \n",
       "2        b128         10           43.270852                 0    Capomulin   \n",
       "3        b128         15           43.784893                 0    Capomulin   \n",
       "4        b128         20           42.731552                 0    Capomulin   \n",
       "...       ...        ...                 ...               ...          ...   \n",
       "1888     m601         25           33.118756                 1    Capomulin   \n",
       "1889     m601         30           31.758275                 1    Capomulin   \n",
       "1890     m601         35           30.834357                 1    Capomulin   \n",
       "1891     m601         40           31.378045                 1    Capomulin   \n",
       "1892     m601         45           28.430964                 1    Capomulin   \n",
       "\n",
       "         Sex  Age_months  Weight (g)  \n",
       "0     Female           9          22  \n",
       "1     Female           9          22  \n",
       "2     Female           9          22  \n",
       "3     Female           9          22  \n",
       "4     Female           9          22  \n",
       "...      ...         ...         ...  \n",
       "1888    Male          22          17  \n",
       "1889    Male          22          17  \n",
       "1890    Male          22          17  \n",
       "1891    Male          22          17  \n",
       "1892    Male          22          17  \n",
       "\n",
       "[1893 rows x 8 columns]"
      ]
     },
     "execution_count": 1354,
     "metadata": {},
     "output_type": "execute_result"
    }
   ],
   "source": [
    "# Dependencies and Setup\n",
    "import matplotlib.pyplot as plt\n",
    "import pandas as pd\n",
    "import scipy.stats as st\n",
    "from scipy.stats import linregress\n",
    "\n",
    "# Study data files\n",
    "mouse_metadata_path = \"data/Mouse_metadata.csv\"\n",
    "study_results_path = \"data/Study_results.csv\"\n",
    "\n",
    "# Read the mouse data and the study results\n",
    "mouse_metadata = pd.read_csv(mouse_metadata_path)\n",
    "study_results = pd.read_csv(study_results_path)\n",
    "\n",
    "# Combine the data into a single dataset\n",
    "combined_mouse_df = pd.merge(study_results, mouse_metadata, how=\"outer\", on=\"Mouse ID\")\n",
    "\n",
    "# Display the data table for preview\n",
    "combined_mouse_df"
   ]
  },
  {
   "cell_type": "code",
   "execution_count": 1355,
   "metadata": {},
   "outputs": [
    {
     "name": "stdout",
     "output_type": "stream",
     "text": [
      "The number of mice in the study: 249\n"
     ]
    }
   ],
   "source": [
    "# Checking the number of mice.\n",
    "numberOfMice = combined_mouse_df[\"Mouse ID\"].nunique()\n",
    "print(f\"The number of mice in the study: {numberOfMice}\")"
   ]
  },
  {
   "cell_type": "code",
   "execution_count": 1356,
   "metadata": {},
   "outputs": [
    {
     "name": "stdout",
     "output_type": "stream",
     "text": [
      "The single duplicate Mouse ID: g989\n"
     ]
    }
   ],
   "source": [
    "# Getting the duplicate mice by ID number that shows up for Mouse ID and Timepoint. \n",
    "duplicateMice = combined_mouse_df.groupby([\"Mouse ID\", \"Timepoint\"])\n",
    "\n",
    "#if the count of Timepoint is greater than 1 then there must be a duplicate entry for this Mouse ID\n",
    "duplicateMiceIDs = duplicateMice[\"Timepoint\"].count().loc[duplicateMice[\"Timepoint\"].count() > 1, :] \n",
    "\n",
    "#Mouse ID is the index at location 0 of this Series; using the leftmost statement returns a tuple - look at index 0 of the tuple for the actual value of Mouse ID\n",
    "duplicateMouseIDResult = duplicateMiceIDs.index[0][0]\n",
    "print(f\"The single duplicate Mouse ID: {duplicateMouseIDResult}\")"
   ]
  },
  {
   "cell_type": "code",
   "execution_count": 1357,
   "metadata": {},
   "outputs": [],
   "source": [
    "# Create a clean DataFrame by dropping the duplicate mouse by its ID.\n",
    "\n",
    "#get names of indexes for when Mouse ID has the value equal to the duplicate Mouse ID found earlier\n",
    "indexName = combined_mouse_df[combined_mouse_df['Mouse ID'] == duplicateMouseIDResult].index\n",
    "#delete the row index from the data frame\n",
    "clean_mouse_df = combined_mouse_df.drop(indexName)"
   ]
  },
  {
   "cell_type": "code",
   "execution_count": 1358,
   "metadata": {},
   "outputs": [
    {
     "name": "stdout",
     "output_type": "stream",
     "text": [
      "Number of mice before cleaning the data: 249\n",
      "Number of mice after cleaning the data: 248\n"
     ]
    }
   ],
   "source": [
    "# Checking the number of mice in the clean DataFrame.\n",
    "mouseCount = combined_mouse_df[\"Mouse ID\"].nunique()\n",
    "cleanMouseCount = clean_mouse_df[\"Mouse ID\"].nunique()\n",
    "print(f\"Number of mice before cleaning the data: {mouseCount}\")\n",
    "print(f\"Number of mice after cleaning the data: {cleanMouseCount}\")"
   ]
  },
  {
   "cell_type": "markdown",
   "metadata": {},
   "source": [
    "## Summary Statistics"
   ]
  },
  {
   "cell_type": "code",
   "execution_count": 1359,
   "metadata": {},
   "outputs": [
    {
     "data": {
      "text/html": [
       "<style  type=\"text/css\" >\n",
       "</style><table id=\"T_15824fcb_39e6_11eb_b493_3448edab3ca1\" ><thead>    <tr>        <th class=\"col_heading level0 col0\" >Drug</th>        <th class=\"col_heading level0 col1\" >Mean</th>        <th class=\"col_heading level0 col2\" >Median</th>        <th class=\"col_heading level0 col3\" >Variance</th>        <th class=\"col_heading level0 col4\" >Standard Dev</th>        <th class=\"col_heading level0 col5\" >SEM</th>    </tr></thead><tbody>\n",
       "                <tr>\n",
       "                                <td id=\"T_15824fcb_39e6_11eb_b493_3448edab3ca1row0_col0\" class=\"data row0 col0\" >Capomulin</td>\n",
       "                        <td id=\"T_15824fcb_39e6_11eb_b493_3448edab3ca1row0_col1\" class=\"data row0 col1\" >40.675741</td>\n",
       "                        <td id=\"T_15824fcb_39e6_11eb_b493_3448edab3ca1row0_col2\" class=\"data row0 col2\" >41.557809</td>\n",
       "                        <td id=\"T_15824fcb_39e6_11eb_b493_3448edab3ca1row0_col3\" class=\"data row0 col3\" >24.947764</td>\n",
       "                        <td id=\"T_15824fcb_39e6_11eb_b493_3448edab3ca1row0_col4\" class=\"data row0 col4\" >4.994774</td>\n",
       "                        <td id=\"T_15824fcb_39e6_11eb_b493_3448edab3ca1row0_col5\" class=\"data row0 col5\" >0.329346</td>\n",
       "            </tr>\n",
       "            <tr>\n",
       "                                <td id=\"T_15824fcb_39e6_11eb_b493_3448edab3ca1row1_col0\" class=\"data row1 col0\" >Ceftamin</td>\n",
       "                        <td id=\"T_15824fcb_39e6_11eb_b493_3448edab3ca1row1_col1\" class=\"data row1 col1\" >52.591172</td>\n",
       "                        <td id=\"T_15824fcb_39e6_11eb_b493_3448edab3ca1row1_col2\" class=\"data row1 col2\" >51.776157</td>\n",
       "                        <td id=\"T_15824fcb_39e6_11eb_b493_3448edab3ca1row1_col3\" class=\"data row1 col3\" >39.290177</td>\n",
       "                        <td id=\"T_15824fcb_39e6_11eb_b493_3448edab3ca1row1_col4\" class=\"data row1 col4\" >6.268188</td>\n",
       "                        <td id=\"T_15824fcb_39e6_11eb_b493_3448edab3ca1row1_col5\" class=\"data row1 col5\" >0.469821</td>\n",
       "            </tr>\n",
       "            <tr>\n",
       "                                <td id=\"T_15824fcb_39e6_11eb_b493_3448edab3ca1row2_col0\" class=\"data row2 col0\" >Infubinol</td>\n",
       "                        <td id=\"T_15824fcb_39e6_11eb_b493_3448edab3ca1row2_col1\" class=\"data row2 col1\" >52.884795</td>\n",
       "                        <td id=\"T_15824fcb_39e6_11eb_b493_3448edab3ca1row2_col2\" class=\"data row2 col2\" >51.820584</td>\n",
       "                        <td id=\"T_15824fcb_39e6_11eb_b493_3448edab3ca1row2_col3\" class=\"data row2 col3\" >43.128684</td>\n",
       "                        <td id=\"T_15824fcb_39e6_11eb_b493_3448edab3ca1row2_col4\" class=\"data row2 col4\" >6.567243</td>\n",
       "                        <td id=\"T_15824fcb_39e6_11eb_b493_3448edab3ca1row2_col5\" class=\"data row2 col5\" >0.492236</td>\n",
       "            </tr>\n",
       "            <tr>\n",
       "                                <td id=\"T_15824fcb_39e6_11eb_b493_3448edab3ca1row3_col0\" class=\"data row3 col0\" >Ketapril</td>\n",
       "                        <td id=\"T_15824fcb_39e6_11eb_b493_3448edab3ca1row3_col1\" class=\"data row3 col1\" >55.235638</td>\n",
       "                        <td id=\"T_15824fcb_39e6_11eb_b493_3448edab3ca1row3_col2\" class=\"data row3 col2\" >53.698743</td>\n",
       "                        <td id=\"T_15824fcb_39e6_11eb_b493_3448edab3ca1row3_col3\" class=\"data row3 col3\" >68.553577</td>\n",
       "                        <td id=\"T_15824fcb_39e6_11eb_b493_3448edab3ca1row3_col4\" class=\"data row3 col4\" >8.279709</td>\n",
       "                        <td id=\"T_15824fcb_39e6_11eb_b493_3448edab3ca1row3_col5\" class=\"data row3 col5\" >0.603860</td>\n",
       "            </tr>\n",
       "            <tr>\n",
       "                                <td id=\"T_15824fcb_39e6_11eb_b493_3448edab3ca1row4_col0\" class=\"data row4 col0\" >Naftisol</td>\n",
       "                        <td id=\"T_15824fcb_39e6_11eb_b493_3448edab3ca1row4_col1\" class=\"data row4 col1\" >54.331565</td>\n",
       "                        <td id=\"T_15824fcb_39e6_11eb_b493_3448edab3ca1row4_col2\" class=\"data row4 col2\" >52.509285</td>\n",
       "                        <td id=\"T_15824fcb_39e6_11eb_b493_3448edab3ca1row4_col3\" class=\"data row4 col3\" >66.173479</td>\n",
       "                        <td id=\"T_15824fcb_39e6_11eb_b493_3448edab3ca1row4_col4\" class=\"data row4 col4\" >8.134708</td>\n",
       "                        <td id=\"T_15824fcb_39e6_11eb_b493_3448edab3ca1row4_col5\" class=\"data row4 col5\" >0.596466</td>\n",
       "            </tr>\n",
       "            <tr>\n",
       "                                <td id=\"T_15824fcb_39e6_11eb_b493_3448edab3ca1row5_col0\" class=\"data row5 col0\" >Placebo</td>\n",
       "                        <td id=\"T_15824fcb_39e6_11eb_b493_3448edab3ca1row5_col1\" class=\"data row5 col1\" >54.033581</td>\n",
       "                        <td id=\"T_15824fcb_39e6_11eb_b493_3448edab3ca1row5_col2\" class=\"data row5 col2\" >52.288934</td>\n",
       "                        <td id=\"T_15824fcb_39e6_11eb_b493_3448edab3ca1row5_col3\" class=\"data row5 col3\" >61.168083</td>\n",
       "                        <td id=\"T_15824fcb_39e6_11eb_b493_3448edab3ca1row5_col4\" class=\"data row5 col4\" >7.821003</td>\n",
       "                        <td id=\"T_15824fcb_39e6_11eb_b493_3448edab3ca1row5_col5\" class=\"data row5 col5\" >0.581331</td>\n",
       "            </tr>\n",
       "            <tr>\n",
       "                                <td id=\"T_15824fcb_39e6_11eb_b493_3448edab3ca1row6_col0\" class=\"data row6 col0\" >Propriva</td>\n",
       "                        <td id=\"T_15824fcb_39e6_11eb_b493_3448edab3ca1row6_col1\" class=\"data row6 col1\" >52.320930</td>\n",
       "                        <td id=\"T_15824fcb_39e6_11eb_b493_3448edab3ca1row6_col2\" class=\"data row6 col2\" >50.446266</td>\n",
       "                        <td id=\"T_15824fcb_39e6_11eb_b493_3448edab3ca1row6_col3\" class=\"data row6 col3\" >43.852013</td>\n",
       "                        <td id=\"T_15824fcb_39e6_11eb_b493_3448edab3ca1row6_col4\" class=\"data row6 col4\" >6.622085</td>\n",
       "                        <td id=\"T_15824fcb_39e6_11eb_b493_3448edab3ca1row6_col5\" class=\"data row6 col5\" >0.544332</td>\n",
       "            </tr>\n",
       "            <tr>\n",
       "                                <td id=\"T_15824fcb_39e6_11eb_b493_3448edab3ca1row7_col0\" class=\"data row7 col0\" >Ramicane</td>\n",
       "                        <td id=\"T_15824fcb_39e6_11eb_b493_3448edab3ca1row7_col1\" class=\"data row7 col1\" >40.216745</td>\n",
       "                        <td id=\"T_15824fcb_39e6_11eb_b493_3448edab3ca1row7_col2\" class=\"data row7 col2\" >40.673236</td>\n",
       "                        <td id=\"T_15824fcb_39e6_11eb_b493_3448edab3ca1row7_col3\" class=\"data row7 col3\" >23.486704</td>\n",
       "                        <td id=\"T_15824fcb_39e6_11eb_b493_3448edab3ca1row7_col4\" class=\"data row7 col4\" >4.846308</td>\n",
       "                        <td id=\"T_15824fcb_39e6_11eb_b493_3448edab3ca1row7_col5\" class=\"data row7 col5\" >0.320955</td>\n",
       "            </tr>\n",
       "            <tr>\n",
       "                                <td id=\"T_15824fcb_39e6_11eb_b493_3448edab3ca1row8_col0\" class=\"data row8 col0\" >Stelasyn</td>\n",
       "                        <td id=\"T_15824fcb_39e6_11eb_b493_3448edab3ca1row8_col1\" class=\"data row8 col1\" >54.233149</td>\n",
       "                        <td id=\"T_15824fcb_39e6_11eb_b493_3448edab3ca1row8_col2\" class=\"data row8 col2\" >52.431737</td>\n",
       "                        <td id=\"T_15824fcb_39e6_11eb_b493_3448edab3ca1row8_col3\" class=\"data row8 col3\" >59.450562</td>\n",
       "                        <td id=\"T_15824fcb_39e6_11eb_b493_3448edab3ca1row8_col4\" class=\"data row8 col4\" >7.710419</td>\n",
       "                        <td id=\"T_15824fcb_39e6_11eb_b493_3448edab3ca1row8_col5\" class=\"data row8 col5\" >0.573111</td>\n",
       "            </tr>\n",
       "            <tr>\n",
       "                                <td id=\"T_15824fcb_39e6_11eb_b493_3448edab3ca1row9_col0\" class=\"data row9 col0\" >Zoniferol</td>\n",
       "                        <td id=\"T_15824fcb_39e6_11eb_b493_3448edab3ca1row9_col1\" class=\"data row9 col1\" >53.236507</td>\n",
       "                        <td id=\"T_15824fcb_39e6_11eb_b493_3448edab3ca1row9_col2\" class=\"data row9 col2\" >51.818479</td>\n",
       "                        <td id=\"T_15824fcb_39e6_11eb_b493_3448edab3ca1row9_col3\" class=\"data row9 col3\" >48.533355</td>\n",
       "                        <td id=\"T_15824fcb_39e6_11eb_b493_3448edab3ca1row9_col4\" class=\"data row9 col4\" >6.966589</td>\n",
       "                        <td id=\"T_15824fcb_39e6_11eb_b493_3448edab3ca1row9_col5\" class=\"data row9 col5\" >0.516398</td>\n",
       "            </tr>\n",
       "    </tbody></table>"
      ],
      "text/plain": [
       "<pandas.io.formats.style.Styler at 0x1ef70fae130>"
      ]
     },
     "execution_count": 1359,
     "metadata": {},
     "output_type": "execute_result"
    }
   ],
   "source": [
    "# Generate a summary statistics table of mean, median, variance, standard deviation, and SEM of the tumor volume for each regimen\n",
    "# Use groupby and summary statistical methods to calculate the following properties of each drug regimen:\n",
    "# mean, median, variance, standard deviation, and SEM of the tumor volume. \n",
    "drug_regimen_df = clean_mouse_df.groupby(\"Drug Regimen\")\n",
    "\n",
    "drugMeans = drug_regimen_df[\"Tumor Volume (mm3)\"].mean()\n",
    "drugMedians = drug_regimen_df[\"Tumor Volume (mm3)\"].median()\n",
    "drugVariance = drug_regimen_df[\"Tumor Volume (mm3)\"].var()\n",
    "drugStandardDeviation = drug_regimen_df[\"Tumor Volume (mm3)\"].std()\n",
    "drugStandardErrorOfMean = drug_regimen_df[\"Tumor Volume (mm3)\"].sem()\n",
    "\n",
    "# Assemble the resulting series into a single summary dataframe.\n",
    "drugNames = list(drug_regimen_df[\"Drug Regimen\"].count().index) #get the drug names from the index; convert the names of the drugs to a list\n",
    "drugSummary_df = pd.DataFrame() #create a new data frame from scratch\n",
    "drugSummary_df[\"Drug\"] = drugNames #assign the list to the \"Drug\" column of the data frame\n",
    "drugSummary_df[\"Mean\"] = list(drugMeans) #convert the Pandas Series variables to lists to more intuitively assign values\n",
    "drugSummary_df[\"Median\"] = list(drugMedians)\n",
    "drugSummary_df[\"Variance\"] = list(drugVariance)\n",
    "drugSummary_df[\"Standard Dev\"] = list(drugStandardDeviation)\n",
    "drugSummary_df[\"SEM\"] = list(drugStandardErrorOfMean)\n",
    "\n",
    "drugSummary_df.style.hide_index() #print data frame without the index numbers"
   ]
  },
  {
   "cell_type": "code",
   "execution_count": 1360,
   "metadata": {},
   "outputs": [
    {
     "data": {
      "text/html": [
       "<div>\n",
       "<style scoped>\n",
       "    .dataframe tbody tr th:only-of-type {\n",
       "        vertical-align: middle;\n",
       "    }\n",
       "\n",
       "    .dataframe tbody tr th {\n",
       "        vertical-align: top;\n",
       "    }\n",
       "\n",
       "    .dataframe thead th {\n",
       "        text-align: right;\n",
       "    }\n",
       "</style>\n",
       "<table border=\"1\" class=\"dataframe\">\n",
       "  <thead>\n",
       "    <tr style=\"text-align: right;\">\n",
       "      <th></th>\n",
       "      <th>Mean</th>\n",
       "      <th>Median</th>\n",
       "      <th>Variance</th>\n",
       "      <th>Standard Dev</th>\n",
       "      <th>SEM</th>\n",
       "    </tr>\n",
       "    <tr>\n",
       "      <th>Drug Regimen</th>\n",
       "      <th></th>\n",
       "      <th></th>\n",
       "      <th></th>\n",
       "      <th></th>\n",
       "      <th></th>\n",
       "    </tr>\n",
       "  </thead>\n",
       "  <tbody>\n",
       "    <tr>\n",
       "      <th>Capomulin</th>\n",
       "      <td>40.675741</td>\n",
       "      <td>41.557809</td>\n",
       "      <td>24.947764</td>\n",
       "      <td>4.994774</td>\n",
       "      <td>0.329346</td>\n",
       "    </tr>\n",
       "    <tr>\n",
       "      <th>Ceftamin</th>\n",
       "      <td>52.591172</td>\n",
       "      <td>51.776157</td>\n",
       "      <td>39.290177</td>\n",
       "      <td>6.268188</td>\n",
       "      <td>0.469821</td>\n",
       "    </tr>\n",
       "    <tr>\n",
       "      <th>Infubinol</th>\n",
       "      <td>52.884795</td>\n",
       "      <td>51.820584</td>\n",
       "      <td>43.128684</td>\n",
       "      <td>6.567243</td>\n",
       "      <td>0.492236</td>\n",
       "    </tr>\n",
       "    <tr>\n",
       "      <th>Ketapril</th>\n",
       "      <td>55.235638</td>\n",
       "      <td>53.698743</td>\n",
       "      <td>68.553577</td>\n",
       "      <td>8.279709</td>\n",
       "      <td>0.603860</td>\n",
       "    </tr>\n",
       "    <tr>\n",
       "      <th>Naftisol</th>\n",
       "      <td>54.331565</td>\n",
       "      <td>52.509285</td>\n",
       "      <td>66.173479</td>\n",
       "      <td>8.134708</td>\n",
       "      <td>0.596466</td>\n",
       "    </tr>\n",
       "    <tr>\n",
       "      <th>Placebo</th>\n",
       "      <td>54.033581</td>\n",
       "      <td>52.288934</td>\n",
       "      <td>61.168083</td>\n",
       "      <td>7.821003</td>\n",
       "      <td>0.581331</td>\n",
       "    </tr>\n",
       "    <tr>\n",
       "      <th>Propriva</th>\n",
       "      <td>52.320930</td>\n",
       "      <td>50.446266</td>\n",
       "      <td>43.852013</td>\n",
       "      <td>6.622085</td>\n",
       "      <td>0.544332</td>\n",
       "    </tr>\n",
       "    <tr>\n",
       "      <th>Ramicane</th>\n",
       "      <td>40.216745</td>\n",
       "      <td>40.673236</td>\n",
       "      <td>23.486704</td>\n",
       "      <td>4.846308</td>\n",
       "      <td>0.320955</td>\n",
       "    </tr>\n",
       "    <tr>\n",
       "      <th>Stelasyn</th>\n",
       "      <td>54.233149</td>\n",
       "      <td>52.431737</td>\n",
       "      <td>59.450562</td>\n",
       "      <td>7.710419</td>\n",
       "      <td>0.573111</td>\n",
       "    </tr>\n",
       "    <tr>\n",
       "      <th>Zoniferol</th>\n",
       "      <td>53.236507</td>\n",
       "      <td>51.818479</td>\n",
       "      <td>48.533355</td>\n",
       "      <td>6.966589</td>\n",
       "      <td>0.516398</td>\n",
       "    </tr>\n",
       "  </tbody>\n",
       "</table>\n",
       "</div>"
      ],
      "text/plain": [
       "                   Mean     Median   Variance  Standard Dev       SEM\n",
       "Drug Regimen                                                         \n",
       "Capomulin     40.675741  41.557809  24.947764      4.994774  0.329346\n",
       "Ceftamin      52.591172  51.776157  39.290177      6.268188  0.469821\n",
       "Infubinol     52.884795  51.820584  43.128684      6.567243  0.492236\n",
       "Ketapril      55.235638  53.698743  68.553577      8.279709  0.603860\n",
       "Naftisol      54.331565  52.509285  66.173479      8.134708  0.596466\n",
       "Placebo       54.033581  52.288934  61.168083      7.821003  0.581331\n",
       "Propriva      52.320930  50.446266  43.852013      6.622085  0.544332\n",
       "Ramicane      40.216745  40.673236  23.486704      4.846308  0.320955\n",
       "Stelasyn      54.233149  52.431737  59.450562      7.710419  0.573111\n",
       "Zoniferol     53.236507  51.818479  48.533355      6.966589  0.516398"
      ]
     },
     "execution_count": 1360,
     "metadata": {},
     "output_type": "execute_result"
    }
   ],
   "source": [
    "# Generate a summary statistics table of mean, median, variance, standard deviation, and SEM of the tumor volume for each regimen\n",
    "# Using the aggregation method, produce the same summary statistics in a single line\n",
    "drug_regimen_df[\"Tumor Volume (mm3)\"].agg(['mean', 'median', 'var', 'std', 'sem']).rename(columns={'mean': 'Mean', 'median': 'Median', 'var': 'Variance', 'std': 'Standard Dev', 'sem': 'SEM'})"
   ]
  },
  {
   "cell_type": "markdown",
   "metadata": {},
   "source": [
    "## Bar and Pie Charts"
   ]
  },
  {
   "cell_type": "code",
   "execution_count": 1361,
   "metadata": {},
   "outputs": [
    {
     "data": {
      "image/png": "[encoded data removed]",
      "text/plain": [
       "<Figure size 432x288 with 1 Axes>"
      ]
     },
     "metadata": {
      "needs_background": "light"
     },
     "output_type": "display_data"
    }
   ],
   "source": [
    "# Generate a bar plot showing the total number of measurements taken on each drug regimen using pandas.\n",
    "drug_regimen_df[\"Tumor Volume (mm3)\"].count().plot.bar()\n",
    "plt.title(\"Drug Regimen Measurements\")\n",
    "plt.xlabel(\"Drug\")\n",
    "plt.ylabel(\"Measurements\")\n",
    "plt.show()"
   ]
  },
  {
   "cell_type": "code",
   "execution_count": 1362,
   "metadata": {},
   "outputs": [
    {
     "data": {
      "image/png": "[encoded data removed]",
      "text/plain": [
       "<Figure size 432x288 with 1 Axes>"
      ]
     },
     "metadata": {
      "needs_background": "light"
     },
     "output_type": "display_data"
    }
   ],
   "source": [
    "# Generate a bar plot showing the total number of measurements taken on each drug regimen using pyplot.\n",
    "tumorVolumes = list(drug_regimen_df[\"Tumor Volume (mm3)\"].count()) #converting to list for easier access to values\n",
    "drugNames = list(drug_regimen_df[\"Drug Regimen\"].count().index) #get the drug names from the index; convert the names of the drugs to a list\n",
    "x_axis = drugNames\n",
    "\n",
    "plt.bar(x_axis, tumorVolumes, alpha=1, align=\"center\")\n",
    "plt.xticks(rotation=90) #rotate the names of the drugs 90 degrees so the text does not run together\n",
    "plt.title(\"Drug Regimen Measurements\")\n",
    "plt.xlabel(\"Drug\")\n",
    "plt.ylabel(\"Measurements\")\n",
    "plt.show()"
   ]
  },
  {
   "cell_type": "code",
   "execution_count": 1363,
   "metadata": {},
   "outputs": [
    {
     "data": {
      "image/png": "[encoded data removed]",
      "text/plain": [
       "<Figure size 432x288 with 1 Axes>"
      ]
     },
     "metadata": {},
     "output_type": "display_data"
    }
   ],
   "source": [
    "# Generate a pie plot showing the distribution of female versus male mice using pandas\n",
    "clean_mouse_df.groupby(\"Sex\")[\"Mouse ID\"].count().plot.pie(label=\"\") #blank label to remove the \"Mouse ID\" name from the chart\n",
    "plt.title(\"Mouse Gender\")\n",
    "plt.show()"
   ]
  },
  {
   "cell_type": "code",
   "execution_count": 1364,
   "metadata": {},
   "outputs": [
    {
     "data": {
      "image/png": "[encoded data removed]",
      "text/plain": [
       "<Figure size 432x288 with 1 Axes>"
      ]
     },
     "metadata": {},
     "output_type": "display_data"
    }
   ],
   "source": [
    "# Generate a pie plot showing the distribution of female versus male mice using pyplot\n",
    "mouse_gender_series = clean_mouse_df.groupby(\"Sex\")[\"Mouse ID\"].count() #creating a series for the count of each gender of mouse\n",
    "genderType = list(mouse_gender_series.index) #get the gender name from the index; convert the gender name data to a list\n",
    "\n",
    "plt.pie(mouse_gender_series, labels = genderType)\n",
    "plt.title(\"Mouse Gender\")\n",
    "plt.show()"
   ]
  },
  {
   "cell_type": "markdown",
   "metadata": {},
   "source": [
    "## Quartiles, Outliers and Boxplots"
   ]
  },
  {
   "cell_type": "code",
   "execution_count": 1365,
   "metadata": {},
   "outputs": [
    {
     "data": {
      "text/html": [
       "<div>\n",
       "<style scoped>\n",
       "    .dataframe tbody tr th:only-of-type {\n",
       "        vertical-align: middle;\n",
       "    }\n",
       "\n",
       "    .dataframe tbody tr th {\n",
       "        vertical-align: top;\n",
       "    }\n",
       "\n",
       "    .dataframe thead th {\n",
       "        text-align: right;\n",
       "    }\n",
       "</style>\n",
       "<table border=\"1\" class=\"dataframe\">\n",
       "  <thead>\n",
       "    <tr style=\"text-align: right;\">\n",
       "      <th></th>\n",
       "      <th>Mouse ID</th>\n",
       "      <th>Timepoint</th>\n",
       "      <th>Tumor Volume (mm3)</th>\n",
       "      <th>Metastatic Sites</th>\n",
       "      <th>Drug Regimen</th>\n",
       "      <th>Sex</th>\n",
       "      <th>Age_months</th>\n",
       "      <th>Weight (g)</th>\n",
       "      <th>Max Timepoint</th>\n",
       "    </tr>\n",
       "  </thead>\n",
       "  <tbody>\n",
       "    <tr>\n",
       "      <th>9</th>\n",
       "      <td>b128</td>\n",
       "      <td>45</td>\n",
       "      <td>38.982878</td>\n",
       "      <td>2</td>\n",
       "      <td>Capomulin</td>\n",
       "      <td>Female</td>\n",
       "      <td>9</td>\n",
       "      <td>22</td>\n",
       "      <td>45</td>\n",
       "    </tr>\n",
       "    <tr>\n",
       "      <th>10</th>\n",
       "      <td>f932</td>\n",
       "      <td>0</td>\n",
       "      <td>45.000000</td>\n",
       "      <td>0</td>\n",
       "      <td>Ketapril</td>\n",
       "      <td>Male</td>\n",
       "      <td>15</td>\n",
       "      <td>29</td>\n",
       "      <td>0</td>\n",
       "    </tr>\n",
       "    <tr>\n",
       "      <th>18</th>\n",
       "      <td>g107</td>\n",
       "      <td>35</td>\n",
       "      <td>71.905117</td>\n",
       "      <td>0</td>\n",
       "      <td>Ketapril</td>\n",
       "      <td>Female</td>\n",
       "      <td>2</td>\n",
       "      <td>29</td>\n",
       "      <td>35</td>\n",
       "    </tr>\n",
       "    <tr>\n",
       "      <th>21</th>\n",
       "      <td>a457</td>\n",
       "      <td>10</td>\n",
       "      <td>49.783419</td>\n",
       "      <td>0</td>\n",
       "      <td>Ketapril</td>\n",
       "      <td>Female</td>\n",
       "      <td>11</td>\n",
       "      <td>30</td>\n",
       "      <td>10</td>\n",
       "    </tr>\n",
       "    <tr>\n",
       "      <th>30</th>\n",
       "      <td>c819</td>\n",
       "      <td>40</td>\n",
       "      <td>62.175705</td>\n",
       "      <td>1</td>\n",
       "      <td>Ketapril</td>\n",
       "      <td>Male</td>\n",
       "      <td>21</td>\n",
       "      <td>25</td>\n",
       "      <td>40</td>\n",
       "    </tr>\n",
       "    <tr>\n",
       "      <th>...</th>\n",
       "      <td>...</td>\n",
       "      <td>...</td>\n",
       "      <td>...</td>\n",
       "      <td>...</td>\n",
       "      <td>...</td>\n",
       "      <td>...</td>\n",
       "      <td>...</td>\n",
       "      <td>...</td>\n",
       "      <td>...</td>\n",
       "    </tr>\n",
       "    <tr>\n",
       "      <th>1844</th>\n",
       "      <td>t565</td>\n",
       "      <td>45</td>\n",
       "      <td>34.455298</td>\n",
       "      <td>0</td>\n",
       "      <td>Capomulin</td>\n",
       "      <td>Female</td>\n",
       "      <td>20</td>\n",
       "      <td>17</td>\n",
       "      <td>45</td>\n",
       "    </tr>\n",
       "    <tr>\n",
       "      <th>1854</th>\n",
       "      <td>i557</td>\n",
       "      <td>45</td>\n",
       "      <td>47.685963</td>\n",
       "      <td>1</td>\n",
       "      <td>Capomulin</td>\n",
       "      <td>Female</td>\n",
       "      <td>1</td>\n",
       "      <td>24</td>\n",
       "      <td>45</td>\n",
       "    </tr>\n",
       "    <tr>\n",
       "      <th>1864</th>\n",
       "      <td>m957</td>\n",
       "      <td>45</td>\n",
       "      <td>33.329098</td>\n",
       "      <td>1</td>\n",
       "      <td>Capomulin</td>\n",
       "      <td>Female</td>\n",
       "      <td>3</td>\n",
       "      <td>19</td>\n",
       "      <td>45</td>\n",
       "    </tr>\n",
       "    <tr>\n",
       "      <th>1869</th>\n",
       "      <td>f966</td>\n",
       "      <td>20</td>\n",
       "      <td>30.485985</td>\n",
       "      <td>0</td>\n",
       "      <td>Capomulin</td>\n",
       "      <td>Male</td>\n",
       "      <td>16</td>\n",
       "      <td>17</td>\n",
       "      <td>20</td>\n",
       "    </tr>\n",
       "    <tr>\n",
       "      <th>1879</th>\n",
       "      <td>m601</td>\n",
       "      <td>45</td>\n",
       "      <td>28.430964</td>\n",
       "      <td>1</td>\n",
       "      <td>Capomulin</td>\n",
       "      <td>Male</td>\n",
       "      <td>22</td>\n",
       "      <td>17</td>\n",
       "      <td>45</td>\n",
       "    </tr>\n",
       "  </tbody>\n",
       "</table>\n",
       "<p>248 rows × 9 columns</p>\n",
       "</div>"
      ],
      "text/plain": [
       "     Mouse ID  Timepoint  Tumor Volume (mm3)  Metastatic Sites Drug Regimen  \\\n",
       "9        b128         45           38.982878                 2    Capomulin   \n",
       "10       f932          0           45.000000                 0     Ketapril   \n",
       "18       g107         35           71.905117                 0     Ketapril   \n",
       "21       a457         10           49.783419                 0     Ketapril   \n",
       "30       c819         40           62.175705                 1     Ketapril   \n",
       "...       ...        ...                 ...               ...          ...   \n",
       "1844     t565         45           34.455298                 0    Capomulin   \n",
       "1854     i557         45           47.685963                 1    Capomulin   \n",
       "1864     m957         45           33.329098                 1    Capomulin   \n",
       "1869     f966         20           30.485985                 0    Capomulin   \n",
       "1879     m601         45           28.430964                 1    Capomulin   \n",
       "\n",
       "         Sex  Age_months  Weight (g)  Max Timepoint  \n",
       "9     Female           9          22             45  \n",
       "10      Male          15          29              0  \n",
       "18    Female           2          29             35  \n",
       "21    Female          11          30             10  \n",
       "30      Male          21          25             40  \n",
       "...      ...         ...         ...            ...  \n",
       "1844  Female          20          17             45  \n",
       "1854  Female           1          24             45  \n",
       "1864  Female           3          19             45  \n",
       "1869    Male          16          17             20  \n",
       "1879    Male          22          17             45  \n",
       "\n",
       "[248 rows x 9 columns]"
      ]
     },
     "execution_count": 1365,
     "metadata": {},
     "output_type": "execute_result"
    }
   ],
   "source": [
    "# Calculate the final tumor volume of each mouse across four of the treatment regimens:  \n",
    "# Capomulin, Ramicane, Infubinol, and Ceftamin\n",
    "\n",
    "# Start by getting the last (greatest) timepoint for each mouse\n",
    "mouseIDGroupBy = clean_mouse_df.groupby(\"Mouse ID\")[\"Timepoint\"].max() #getting the maximum timepoint for each mouse\n",
    "\n",
    "mouse_timepoint_max_df = pd.DataFrame(mouseIDGroupBy)\n",
    "mouse_timepoint_max_df = mouse_timepoint_max_df.rename(columns={'Timepoint': 'Max Timepoint'})\n",
    "mouse_timepoint_max_df = mouse_timepoint_max_df.reset_index() #turn the Mouse ID index into a column so I can perform the following data frame merge\n",
    "\n",
    "# Merge this group df with the original dataframe to get the tumor volume at the last timepoint\n",
    "mouse_merged_timepoint_df = pd.merge(clean_mouse_df, mouse_timepoint_max_df) #merge the two data frames on the Mouse ID column\n",
    "\n",
    "#showing only rows when the Timepoint is equal to the Max Timepoint on the merged data frame\n",
    "max_timepoint_df = mouse_merged_timepoint_df[mouse_merged_timepoint_df['Timepoint'] == mouse_merged_timepoint_df['Max Timepoint']]\n",
    "max_timepoint_df"
   ]
  },
  {
   "cell_type": "code",
   "execution_count": 1366,
   "metadata": {},
   "outputs": [
    {
     "name": "stdout",
     "output_type": "stream",
     "text": [
      "The interquartile range for Capomulin is: 7.78\n",
      "The interquartile range for Ramicane is: 9.1\n",
      "The interquartile range for Infubinol is: 11.48\n",
      "The interquartile range for Ceftamin is: 15.58\n",
      "\n",
      "The total volume of mice tumors for Capomulin is: 916.69\n",
      "The total volume of mice tumors for Ramicane is: 904.78\n",
      "The total volume of mice tumors for Infubinol is: 1454.46\n",
      "The total volume of mice tumors for Ceftamin is: 1443.85\n",
      "\n",
      "The Lower Bound for Capomulin is: 32.38. The minimum tumor volume for Capomulin is: 23.34. Outliers exist: True.\n",
      "The Upper Bound for Capomulin is: 40.16. The maximum tumor volume for Capomulin is: 47.69. Outliers exist: True.\n",
      "\n",
      "The Lower Bound for Ramicane is: 31.56. The minimum tumor volume for Ramicane is: 22.05. Outliers exist: True.\n",
      "The Upper Bound for Ramicane is: 40.66. The maximum tumor volume for Ramicane is: 45.22. Outliers exist: True.\n",
      "\n",
      "The Lower Bound for Infubinol is: 54.05. The minimum tumor volume for Infubinol is: 36.32. Outliers exist: True.\n",
      "The Upper Bound for Infubinol is: 65.53. The maximum tumor volume for Infubinol is: 72.23. Outliers exist: True.\n",
      "\n",
      "The Lower Bound for Ceftamin is: 48.72. The minimum tumor volume for Ceftamin is: 45.0. Outliers exist: True.\n",
      "The Upper Bound for Ceftamin is: 64.3. The maximum tumor volume for Ceftamin is: 68.92. Outliers exist: True.\n",
      "\n"
     ]
    }
   ],
   "source": [
    "# Put treatments into a list for for loop (and later for plot labels)\n",
    "drugTreatments = [\"Capomulin\", \"Ramicane\", \"Infubinol\", \"Ceftamin\"]\n",
    "\n",
    "# Create empty list to fill with tumor vol data (for plotting)\n",
    "tumorVolume = []\n",
    "\n",
    "for drug in drugTreatments:\n",
    "    #if the drug is one of the drugs I'm looking for then add it to the data frame for this iteration of the loop\n",
    "    tumor_volume_df = max_timepoint_df[max_timepoint_df['Drug Regimen'] == drug]\n",
    "    #append tumor volume data to the list without overwriting data from the previous iteration of the loop\n",
    "    tumorVolume += (tumor_volume_df[\"Tumor Volume (mm3)\"].tolist())    \n",
    "\n",
    "# Calculate the IQR and quantitatively determine if there are any potential outliers. \n",
    "capomulin_df = pd.DataFrame(tumorVolume[0:25])\n",
    "ramicane_df = pd.DataFrame(tumorVolume[25:50])\n",
    "infubinol_df = pd.DataFrame(tumorVolume[50:75])\n",
    "ceftamin_df = pd.DataFrame(tumorVolume[75:100])\n",
    "\n",
    "capomulinQuartiles = capomulin_df[0].quantile([.25,.5,.75])\n",
    "capomulinLowerq = capomulinQuartiles[0.25]\n",
    "capomulinUpperq = capomulinQuartiles[0.75]\n",
    "capomulinIqr = capomulinUpperq-capomulinLowerq\n",
    "\n",
    "ramicaneQuartiles = ramicane_df[0].quantile([.25,.5,.75])\n",
    "ramicaneLowerq = ramicaneQuartiles[0.25]\n",
    "ramicaneUpperq = ramicaneQuartiles[0.75]\n",
    "ramicaneIqr = ramicaneUpperq-ramicaneLowerq\n",
    "\n",
    "infubinolQuartiles = infubinol_df[0].quantile([.25,.5,.75])\n",
    "infubinolLowerq = infubinolQuartiles[0.25]\n",
    "infubinolUpperq = infubinolQuartiles[0.75]\n",
    "infubinolIqr = infubinolUpperq-infubinolLowerq\n",
    "\n",
    "ceftaminQuartiles = ceftamin_df[0].quantile([.25,.5,.75])\n",
    "ceftaminLowerq = ceftaminQuartiles[0.25]\n",
    "ceftaminUpperq = ceftaminQuartiles[0.75]\n",
    "ceftaminIqr = ceftaminUpperq-ceftaminLowerq\n",
    "\n",
    "print(f\"The interquartile range for Capomulin is: {round(capomulinIqr, 2)}\")\n",
    "print(f\"The interquartile range for Ramicane is: {round(ramicaneIqr, 2)}\")\n",
    "print(f\"The interquartile range for Infubinol is: {round(infubinolIqr, 2)}\")\n",
    "print(f\"The interquartile range for Ceftamin is: {round(ceftaminIqr, 2)}\\n\")\n",
    "\n",
    "# Locate the rows which contain mice on each drug and get the tumor volumes and add subset \n",
    "print(f\"The total volume of mice tumors for Capomulin is: {round(capomulin_df[0].sum(), 2)}\")\n",
    "print(f\"The total volume of mice tumors for Ramicane is: {round(ramicane_df[0].sum(), 2)}\")\n",
    "print(f\"The total volume of mice tumors for Infubinol is: {round(infubinol_df[0].sum(), 2)}\")\n",
    "print(f\"The total volume of mice tumors for Ceftamin is: {round(ceftamin_df[0].sum(), 2)}\\n\")   \n",
    "\n",
    "# Determine outliers using upper and lower bounds\n",
    "print(f\"The Lower Bound for Capomulin is: {round(capomulinLowerq, 2)}. The minimum tumor volume for Capomulin is: {round(capomulin_df[0].min(), 2)}. Outliers exist: {capomulin_df[0].min() < capomulinLowerq}.\")\n",
    "print(f\"The Upper Bound for Capomulin is: {round(capomulinUpperq, 2)}. The maximum tumor volume for Capomulin is: {round(capomulin_df[0].max(), 2)}. Outliers exist: {capomulin_df[0].max() > capomulinUpperq}.\\n\")\n",
    "\n",
    "print(f\"The Lower Bound for Ramicane is: {round(ramicaneLowerq, 2)}. The minimum tumor volume for Ramicane is: {round(ramicane_df[0].min(), 2)}. Outliers exist: {ramicane_df[0].min() < ramicaneLowerq}.\")\n",
    "print(f\"The Upper Bound for Ramicane is: {round(ramicaneUpperq, 2)}. The maximum tumor volume for Ramicane is: {round(ramicane_df[0].max(), 2)}. Outliers exist: {ramicane_df[0].max() > ramicaneUpperq}.\\n\")\n",
    "\n",
    "print(f\"The Lower Bound for Infubinol is: {round(infubinolLowerq, 2)}. The minimum tumor volume for Infubinol is: {round(infubinol_df[0].min(), 2)}. Outliers exist: {infubinol_df[0].min() < infubinolLowerq}.\")\n",
    "print(f\"The Upper Bound for Infubinol is: {round(infubinolUpperq, 2)}. The maximum tumor volume for Infubinol is: {round(infubinol_df[0].max(), 2)}. Outliers exist: {infubinol_df[0].max() > infubinolUpperq}.\\n\")\n",
    "\n",
    "print(f\"The Lower Bound for Ceftamin is: {round(ceftaminLowerq, 2)}. The minimum tumor volume for Ceftamin is: {round(ceftamin_df[0].min(), 2)}. Outliers exist: {ceftamin_df[0].min() < ceftaminLowerq}.\")\n",
    "print(f\"The Upper Bound for Ceftamin is: {round(ceftaminUpperq, 2)}. The maximum tumor volume for Ceftamin is: {round(ceftamin_df[0].max(), 2)}. Outliers exist: {ceftamin_df[0].max() > ceftaminUpperq}.\\n\")"
   ]
  },
  {
   "cell_type": "code",
   "execution_count": 1367,
   "metadata": {},
   "outputs": [
    {
     "data": {
      "image/png": "[encoded data removed]",
      "text/plain": [
       "<Figure size 432x288 with 4 Axes>"
      ]
     },
     "metadata": {
      "needs_background": "light"
     },
     "output_type": "display_data"
    }
   ],
   "source": [
    "# Generate a box plot of the final tumor volume of each mouse across four regimens of interest\n",
    "capomulinTumorVolumes = capomulin_df[0].tolist() #converting data frame values to lists\n",
    "ramicaneTumorVolumes = ramicane_df[0].tolist()\n",
    "infubinolTumorVolumes = infubinol_df[0].tolist()\n",
    "ceftaminTumorVolumes = ceftamin_df[0].tolist()\n",
    "\n",
    "fig1, [[ax1, ax2], [ax3, ax4]] = plt.subplots(2, 2) #creating a 2x2 grid of box plots for the drug regimens\n",
    "#naming each axis of the box plot and giving each axis a list of values to correspond to the drug regimen tumor volumes\n",
    "ax1.set_ylabel('Tumor Volume (mm3)')\n",
    "ax1.set_title('Capomulin Tumor Volumes')\n",
    "ax1.boxplot(capomulinTumorVolumes)\n",
    "\n",
    "ax2.set_title('Ramicane Tumor Volumes')\n",
    "ax2.boxplot(ramicaneTumorVolumes)\n",
    "\n",
    "ax3.set_ylabel('Tumor Volume (mm3)')\n",
    "ax3.set_title('Infubinol Tumor Volumes')\n",
    "ax3.boxplot(infubinolTumorVolumes)\n",
    "\n",
    "ax4.set_title('Ceftamin Tumor Volumes')\n",
    "ax4.boxplot(ceftaminTumorVolumes)\n",
    "\n",
    "plt.show()"
   ]
  },
  {
   "cell_type": "markdown",
   "metadata": {},
   "source": [
    "## Line and Scatter Plots"
   ]
  },
  {
   "cell_type": "code",
   "execution_count": 1368,
   "metadata": {},
   "outputs": [
    {
     "data": {
      "image/png": "[encoded data removed]",
      "text/plain": [
       "<Figure size 432x288 with 1 Axes>"
      ]
     },
     "metadata": {
      "needs_background": "light"
     },
     "output_type": "display_data"
    }
   ],
   "source": [
    "# Generate a line plot of tumor volume vs. time point for a mouse treated with Capomulin\n",
    "mouse_ID_i557_df = combined_mouse_df[combined_mouse_df['Mouse ID'] == \"i557\"] #selecting a mouse to plot treatment results for\n",
    "\n",
    "x_axis = mouse_ID_i557_df[\"Timepoint\"]\n",
    "y_axis = mouse_ID_i557_df[\"Tumor Volume (mm3)\"]\n",
    "\n",
    "plt.plot(x_axis, y_axis, marker=\"o\", label=\"Tumor Volume (mm3)\")\n",
    "plt.title(\"Mouse ID i557 Capomulin Treatment\")\n",
    "plt.xlabel(\"Timepoint\")\n",
    "plt.ylabel(\"Tumor Volume\")\n",
    "plt.legend()\n",
    "plt.show()"
   ]
  },
  {
   "cell_type": "code",
   "execution_count": 1369,
   "metadata": {},
   "outputs": [
    {
     "data": {
      "image/png": "[encoded data removed]",
      "text/plain": [
       "<Figure size 432x288 with 1 Axes>"
      ]
     },
     "metadata": {
      "needs_background": "light"
     },
     "output_type": "display_data"
    }
   ],
   "source": [
    "# Generate a scatter plot of average tumor volume vs. mouse weight for the Capomulin regimen\n",
    "capomulin_mouse_df = combined_mouse_df[combined_mouse_df['Drug Regimen'] == \"Capomulin\"] #getting the mice only on the Capomulin drug regimen\n",
    "\n",
    "average_capomulin_df = capomulin_mouse_df.groupby(\"Mouse ID\").mean() #averaging the data values for each Mouse ID\n",
    "x_axis = average_capomulin_df[\"Weight (g)\"]\n",
    "y_axis = average_capomulin_df[\"Tumor Volume (mm3)\"]\n",
    "\n",
    "plt.scatter(x_axis, y_axis, facecolors=\"lightskyblue\", edgecolors=\"black\", label=\"Tumor Volume (mm3)\")\n",
    "plt.title(\"Capomulin Avg Tumor Volume by Mouse Weight\")\n",
    "plt.xlabel(\"Mouse Weight\")\n",
    "plt.ylabel(\"Tumor Volume\")\n",
    "plt.legend()\n",
    "plt.show()"
   ]
  },
  {
   "cell_type": "markdown",
   "metadata": {},
   "source": [
    "## Correlation and Regression"
   ]
  },
  {
   "cell_type": "code",
   "execution_count": 1370,
   "metadata": {},
   "outputs": [
    {
     "data": {
      "image/png": "[encoded data removed]",
      "text/plain": [
       "<Figure size 432x288 with 1 Axes>"
      ]
     },
     "metadata": {
      "needs_background": "light"
     },
     "output_type": "display_data"
    },
    {
     "name": "stdout",
     "output_type": "stream",
     "text": [
      "The correlation coefficient between both factors is 0.84\n"
     ]
    }
   ],
   "source": [
    "# Calculate the correlation coefficient and linear regression model \n",
    "# for mouse weight and average tumor volume for the Capomulin regimen\n",
    "capomulin_mouse_df = combined_mouse_df[combined_mouse_df['Drug Regimen'] == \"Capomulin\"] #getting the mice only on the Capomulin drug regimen\n",
    "\n",
    "average_capomulin_df = capomulin_mouse_df.groupby(\"Mouse ID\").mean() #averaging the data values for each Mouse ID\n",
    "x_axis_values = average_capomulin_df[\"Weight (g)\"]\n",
    "y_axis_values = average_capomulin_df[\"Tumor Volume (mm3)\"]\n",
    "\n",
    "(slope, intercept, rvalue, pvalue, stderr) = linregress(x_axis_values, y_axis_values) #extracting values for the linear regression model\n",
    "regress_values = x_axis_values * slope + intercept\n",
    "line_eq = \"y = \" + str(round(slope,2)) + \"x + \" + str(round(intercept,2)) #storing the line equation to allow for manual calculations using formula\n",
    "\n",
    "plt.scatter(x_axis_values, y_axis_values, facecolors=\"lightskyblue\", edgecolors=\"black\", label=\"Tumor Volume (mm3)\") #create the scatter plot\n",
    "plt.plot(x_axis_values,regress_values,\"r-\") #plot the regression line on the chart\n",
    "plt.annotate(line_eq,(20,35),fontsize=15,color=\"red\") #add the formula the regression line is using to the chart at location (20,35) on the chart\n",
    "\n",
    "plt.title(\"Capomulin Avg Tumor Volume by Mouse Weight\")\n",
    "plt.xlabel(\"Mouse Weight\")\n",
    "plt.ylabel(\"Tumor Volume\")\n",
    "plt.legend()\n",
    "plt.show()\n",
    "\n",
    "correlation = st.pearsonr(x_axis_values, y_axis_values) #calculating correlation coefficient between the two data sets\n",
    "print(f\"The correlation coefficient between both factors is {round(correlation[0],2)}\")"
   ]
  }
 ],
 "metadata": {
  "anaconda-cloud": {},
  "kernelspec": {
   "display_name": "Python 3",
   "language": "python",
   "name": "python3"
  },
  "language_info": {
   "codemirror_mode": {
    "name": "ipython",
    "version": 3
   },
   "file_extension": ".py",
   "mimetype": "text/x-python",
   "name": "python",
   "nbconvert_exporter": "python",
   "pygments_lexer": "ipython3",
   "version": "3.8.3"
  }
 },
 "nbformat": 4,
 "nbformat_minor": 4
}
